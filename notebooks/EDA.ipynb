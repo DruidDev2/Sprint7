{
 "cells": [
  {
   "cell_type": "code",
   "execution_count": null,
   "id": "de2cb43c",
   "metadata": {
    "vscode": {
     "languageId": "plaintext"
    }
   },
   "outputs": [],
   "source": [
    "import pandas as pd\n",
    "import plotly.express as px\n",
    "\n",
    "# cargar dataset\n",
    "df = pd.read_csv(\"../vehicles_us.csv\")\n",
    "\n",
    "# Revision rapida\n",
    "df.head()\n",
    "\n",
    "# histograma simple\n",
    "px.histogram(df, x=\"Model Year\")\n",
    "\n",
    "# scatter simple\n",
    "px.scatter(df, x=\"Model Year\", y=\"Electric Range\")"
   ]
  },
  {
   "cell_type": "code",
   "execution_count": null,
   "id": "9e75d3b9",
   "metadata": {
    "vscode": {
     "languageId": "plaintext"
    }
   },
   "outputs": [],
   "source": []
  }
 ],
 "metadata": {
  "language_info": {
   "name": "python"
  }
 },
 "nbformat": 4,
 "nbformat_minor": 5
}
